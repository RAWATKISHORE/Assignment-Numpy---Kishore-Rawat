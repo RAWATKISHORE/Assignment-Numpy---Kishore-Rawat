{
  "nbformat": 4,
  "nbformat_minor": 0,
  "metadata": {
    "colab": {
      "provenance": []
    },
    "kernelspec": {
      "name": "python3",
      "display_name": "Python 3"
    },
    "language_info": {
      "name": "python"
    }
  },
  "cells": [
    {
      "cell_type": "markdown",
      "source": [
        "#ASSIGNMENT NUMPY :- KISHORE RAWAT"
      ],
      "metadata": {
        "id": "5IOZ42nGRSoT"
      }
    },
    {
      "cell_type": "markdown",
      "source": [
        "#Theoretical Questions:"
      ],
      "metadata": {
        "id": "55d8_J5wtVaU"
      }
    },
    {
      "cell_type": "markdown",
      "source": [
        "##Q1. Explain the purpose and advantages of NumPy in scientific computing and data analysis. How does it enhance Python's capabilities for numerical operations?"
      ],
      "metadata": {
        "id": "6-QcBaUiRcWg"
      }
    },
    {
      "cell_type": "markdown",
      "source": [
        "##Ans. NumPy (Numerical Python) is a fundamental library for scientific computing and data analysis in Python. Here's an overview of its purpose and key advantages:\n",
        "\n",
        "##Purpose:\n",
        "##NumPy provides a powerful N-dimensional array object and tools for working with these arrays. It's designed to handle large, multi-dimensional arrays and matrices efficiently, along with a collection of mathematical functions to operate on these arrays.\n",
        "\n",
        "##Advantages:\n",
        "\n",
        "##1. Efficient array operations: NumPy's arrays are more compact and faster than Python lists for numerical operations.\n",
        "\n",
        "##2. Vectorization: Allows element-wise operations without explicit loops, improving performance and readability.\n",
        "\n",
        "##3. Broadcasting: Enables operations on arrays of different shapes, simplifying code.\n",
        "\n",
        "##4. Memory efficiency: Uses contiguous memory blocks for arrays, allowing faster access and manipulation.\n",
        "\n",
        "##5. C-based implementation: Core routines are written in C, providing significant speed improvements over pure Python code.\n",
        "\n",
        "##6. Rich mathematical functions: Offers a wide range of mathematical operations, from basic arithmetic to advanced linear algebra and Fourier transforms.\n",
        "\n",
        "##7. Random number generation: Provides tools for generating random numbers and sampling from various distributions.\n",
        "\n",
        "##8. Integration with other libraries: Forms the foundation for many other scientific Python libraries like SciPy, Pandas, and scikit-learn.\n",
        "\n",
        "##Enhancing Python's capabilities:\n",
        "##NumPy significantly extends Python's ability to handle numerical operations by:\n",
        "\n",
        "##1. Providing a more suitable data structure (ndarray) for numerical computations.\n",
        "##2. Offering vectorized operations that are much faster than Python's built-in sequences.\n",
        "##3. Implementing many mathematical functions that operate efficiently on entire arrays.\n",
        "##4. Enabling easier integration with C/C++ and Fortran code.\n",
        "\n",
        "##These enhancements make Python with NumPy a powerful alternative to specialized numerical computing environments like MATLAB for many applications.\n"
      ],
      "metadata": {
        "id": "LJbCLv_VRcBW"
      }
    },
    {
      "cell_type": "markdown",
      "source": [
        "-------------------------------------------------------------------------------------------------------------------------------------------------"
      ],
      "metadata": {
        "id": "vdKO4cXxTbBk"
      }
    },
    {
      "cell_type": "markdown",
      "source": [
        "##Q2. Compare and contrast np.mean() and np.average() functions in NumPy. When would you use one over the other?\n"
      ],
      "metadata": {
        "id": "hK96w3P-TcyK"
      }
    },
    {
      "cell_type": "markdown",
      "source": [
        "##Ans. Certainly, I'll compare and contrast np.mean() and np.average() functions in NumPy and explain when you might prefer one over the other.\n",
        "\n",
        "##np.mean() and np.average() are both functions used to calculate the average of values in NumPy arrays, but they have some key differences:\n",
        "\n",
        "##1. Basic functionality:\n",
        "##- np.mean(): Calculates the arithmetic mean of array elements.\n",
        "##- np.average(): Calculates the weighted average of array elements.\n",
        "\n",
        "##2. Weighting:\n",
        "##- np.mean(): Does not support weights. All elements are treated equally.\n",
        "##- np.average(): Allows for weighted averages by specifying weights for each element.\n",
        "\n",
        "##3. Axis parameter:\n",
        "##- np.mean(): Supports the axis parameter for calculating means along specific axes of multi-dimensional arrays.\n",
        "##- np.average(): Also supports the axis parameter, but with some additional considerations when using weights.\n",
        "\n",
        "##4. Return value:\n",
        "##- np.mean(): Returns a scalar (for 1D arrays) or an array of means (for multi-dimensional arrays).\n",
        "##- np.average(): By default, returns a scalar. Can optionally return the sum of weights.\n",
        "\n",
        "##5. Performance:\n",
        "##- np.mean(): Generally faster, especially for large arrays without weights.\n",
        "##- np.average(): Slightly slower due to the additional computations for weights.\n",
        "\n",
        "##When to use np.mean():\n",
        "##1. When you need a simple arithmetic mean without weights.\n",
        "##2. When working with large datasets where performance is crucial.\n",
        "##3. When you want to calculate means along specific axes of multi-dimensional arrays easily.\n",
        "\n",
        "##When to use np.average():\n",
        "##1. When you need to calculate a weighted average.\n",
        "##2. When elements in your data have different levels of importance or reliability.\n",
        "##3. When you need to handle masked arrays (np.average() has better support for masked arrays).\n",
        "\n",
        "##Here's a simple example to illustrate the difference:"
      ],
      "metadata": {
        "id": "V_7VL42QTcuP"
      }
    },
    {
      "cell_type": "code",
      "source": [
        "import numpy as np\n",
        "\n",
        "# Sample data\n",
        "data = np.array([1, 2, 3, 4, 5])\n",
        "weights = np.array([1, 1, 2, 2, 3])\n",
        "\n",
        "# Using np.mean()\n",
        "mean_result = np.mean(data)\n",
        "print(f\"np.mean() result: {mean_result}\")\n",
        "\n",
        "# Using np.average() without weights\n",
        "avg_result = np.average(data)\n",
        "print(f\"np.average() without weights result: {avg_result}\")\n",
        "\n",
        "# Using np.average() with weights\n",
        "weighted_avg_result = np.average(data, weights=weights)\n",
        "print(f\"np.average() with weights result: {weighted_avg_result}\")"
      ],
      "metadata": {
        "colab": {
          "base_uri": "https://localhost:8080/"
        },
        "id": "ddP2ribUUzAe",
        "outputId": "a0325fad-42f1-4871-8cde-650b582edd60"
      },
      "execution_count": 3,
      "outputs": [
        {
          "output_type": "stream",
          "name": "stdout",
          "text": [
            "np.mean() result: 3.0\n",
            "np.average() without weights result: 3.0\n",
            "np.average() with weights result: 3.5555555555555554\n"
          ]
        }
      ]
    },
    {
      "cell_type": "markdown",
      "source": [
        "------------------------------------------------------------------------------------------------------------------------------------"
      ],
      "metadata": {
        "id": "q8hsjF1eTcqa"
      }
    },
    {
      "cell_type": "markdown",
      "source": [
        "##Q3. Describe the methods for reversing a NumPy array along different axes. Provide examples for 1D and 2D arrays."
      ],
      "metadata": {
        "id": "3nhDJQaBTcmw"
      }
    },
    {
      "cell_type": "markdown",
      "source": [
        "##Ans. NumPy provides several methods to reverse arrays along different axes. Let's explore these methods for both 1D and 2D arrays.\n",
        "\n",
        "##Methods for reversing NumPy arrays:\n",
        "\n",
        "##1. np.flip(): Reverses the order of elements in an array along the specified axis.\n",
        "##2. array[::-1]: Using slice notation to reverse the array.\n",
        "##3. np.flipud(): Flips the array upside down (only for 2D+ arrays).\n",
        "##4. np.fliplr(): Flips the array left-right (only for 2D+ arrays).\n",
        "\n",
        "##Let's look at examples for 1D and 2D arrays:\n",
        "\n",
        "##1D Array Examples:"
      ],
      "metadata": {
        "id": "64xqHHfHTcjO"
      }
    },
    {
      "cell_type": "code",
      "source": [
        "import numpy as np\n",
        "\n",
        "# Create a 1D array\n",
        "arr_1d = np.array([1, 2, 3, 4, 5])\n",
        "\n",
        "# Method 1: Using np.flip()\n",
        "reversed_1 = np.flip(arr_1d)\n",
        "\n",
        "# Method 2: Using slice notation\n",
        "reversed_2 = arr_1d[::-1]\n",
        "\n",
        "print(\"Original 1D array:\", arr_1d)\n",
        "print(\"Reversed using np.flip():\", reversed_1)\n",
        "print(\"Reversed using slice notation:\", reversed_2)"
      ],
      "metadata": {
        "colab": {
          "base_uri": "https://localhost:8080/"
        },
        "id": "O3J8dbqAXUzq",
        "outputId": "0fb6e8ae-c71f-4d6c-92bc-4eb5b1e9e2dd"
      },
      "execution_count": 5,
      "outputs": [
        {
          "output_type": "stream",
          "name": "stdout",
          "text": [
            "Original 1D array: [1 2 3 4 5]\n",
            "Reversed using np.flip(): [5 4 3 2 1]\n",
            "Reversed using slice notation: [5 4 3 2 1]\n"
          ]
        }
      ]
    },
    {
      "cell_type": "markdown",
      "source": [
        "##2D Array Examples:"
      ],
      "metadata": {
        "id": "KTMEavJXXgg1"
      }
    },
    {
      "cell_type": "code",
      "source": [
        "#Reversing 2D NumPy Arrays\n",
        "\n",
        "import numpy as np\n",
        "\n",
        "# Create a 2D array\n",
        "arr_2d = np.array([[1, 2, 3],\n",
        "                   [4, 5, 6],\n",
        "                   [7, 8, 9]])\n",
        "\n",
        "# Method 1: Using np.flip()\n",
        "# Reverse along axis 0 (rows)\n",
        "reversed_axis0 = np.flip(arr_2d, axis=0)\n",
        "\n",
        "# Reverse along axis 1 (columns)\n",
        "reversed_axis1 = np.flip(arr_2d, axis=1)\n",
        "\n",
        "# Reverse along both axes\n",
        "reversed_both = np.flip(arr_2d)\n",
        "\n",
        "# Method 2: Using slice notation\n",
        "reversed_axis0_slice = arr_2d[::-1, :]\n",
        "reversed_axis1_slice = arr_2d[:, ::-1]\n",
        "\n",
        "# Method 3: Using np.flipud() and np.fliplr()\n",
        "reversed_ud = np.flipud(arr_2d)  # Equivalent to reversing axis 0\n",
        "reversed_lr = np.fliplr(arr_2d)  # Equivalent to reversing axis 1\n",
        "\n",
        "print(\"Original 2D array:\")\n",
        "print(arr_2d)\n",
        "print(\"\\nReversed along axis 0 (np.flip):\")\n",
        "print(reversed_axis0)\n",
        "print(\"\\nReversed along axis 1 (np.flip):\")\n",
        "print(reversed_axis1)\n",
        "print(\"\\nReversed along both axes (np.flip):\")\n",
        "print(reversed_both)\n",
        "print(\"\\nReversed along axis 0 (slice notation):\")\n",
        "print(reversed_axis0_slice)\n",
        "print(\"\\nReversed along axis 1 (slice notation):\")\n",
        "print(reversed_axis1_slice)\n",
        "print(\"\\nReversed using np.flipud():\")\n",
        "print(reversed_ud)\n",
        "print(\"\\nReversed using np.fliplr():\")\n",
        "print(reversed_lr)"
      ],
      "metadata": {
        "colab": {
          "base_uri": "https://localhost:8080/"
        },
        "id": "YrTjrNA8Xfw-",
        "outputId": "1e1f4d89-62f0-4c81-e633-ec34800da45d"
      },
      "execution_count": 7,
      "outputs": [
        {
          "output_type": "stream",
          "name": "stdout",
          "text": [
            "Original 2D array:\n",
            "[[1 2 3]\n",
            " [4 5 6]\n",
            " [7 8 9]]\n",
            "\n",
            "Reversed along axis 0 (np.flip):\n",
            "[[7 8 9]\n",
            " [4 5 6]\n",
            " [1 2 3]]\n",
            "\n",
            "Reversed along axis 1 (np.flip):\n",
            "[[3 2 1]\n",
            " [6 5 4]\n",
            " [9 8 7]]\n",
            "\n",
            "Reversed along both axes (np.flip):\n",
            "[[9 8 7]\n",
            " [6 5 4]\n",
            " [3 2 1]]\n",
            "\n",
            "Reversed along axis 0 (slice notation):\n",
            "[[7 8 9]\n",
            " [4 5 6]\n",
            " [1 2 3]]\n",
            "\n",
            "Reversed along axis 1 (slice notation):\n",
            "[[3 2 1]\n",
            " [6 5 4]\n",
            " [9 8 7]]\n",
            "\n",
            "Reversed using np.flipud():\n",
            "[[7 8 9]\n",
            " [4 5 6]\n",
            " [1 2 3]]\n",
            "\n",
            "Reversed using np.fliplr():\n",
            "[[3 2 1]\n",
            " [6 5 4]\n",
            " [9 8 7]]\n"
          ]
        }
      ]
    },
    {
      "cell_type": "markdown",
      "source": [
        "##Key points to remember:\n",
        "##1. np.flip() is versatile and works for both 1D and 2D arrays, allowing you to specify the axis.\n",
        "##2. Slice notation ([::-1]) is a quick way to reverse arrays, especially useful for 1D arrays.\n",
        "##3. np.flipud() and np.fliplr() are specifically for 2D+ arrays, reversing along the first axis (up-down) and second axis (left-right) respectively.\n",
        "##4. When reversing a 2D array along both axes, the result is equivalent to rotating the array by 180 degrees.\n",
        "\n",
        "##These methods provide flexibility in reversing arrays for various data manipulation tasks in NumPy."
      ],
      "metadata": {
        "id": "fszwUDnZTcZg"
      }
    },
    {
      "cell_type": "markdown",
      "source": [
        "-------------------------------------------------------------------------------------------------------------------------------------"
      ],
      "metadata": {
        "id": "v5A99x-9TcPm"
      }
    },
    {
      "cell_type": "markdown",
      "source": [
        "##Q4. How can you determine the data type of elements in a NumPy array? Discuss the importance of data types in memory management and performance."
      ],
      "metadata": {
        "id": "yrK5y_ebYN6q"
      }
    },
    {
      "cell_type": "markdown",
      "source": [
        "##Ans. You can determine the data type of elements in a NumPy array using the .dtype attribute. For example:"
      ],
      "metadata": {
        "id": "0RT-tINPYNxW"
      }
    },
    {
      "cell_type": "code",
      "source": [
        "import numpy as np\n",
        "\n",
        "arr = np.array([1, 2, 3])\n",
        "print(arr.dtype)"
      ],
      "metadata": {
        "colab": {
          "base_uri": "https://localhost:8080/"
        },
        "id": "WpYemmXeZU7j",
        "outputId": "fb04aa38-b084-43f4-8956-aa50128b2f94"
      },
      "execution_count": 8,
      "outputs": [
        {
          "output_type": "stream",
          "name": "stdout",
          "text": [
            "int64\n"
          ]
        }
      ]
    },
    {
      "cell_type": "markdown",
      "source": [
        "##This will return the data type of the elements stored in the array, which could be `int32`, `int64`, `float32`, `float64`, etc., depending on the type of data stored and your system architecture.\n",
        "\n",
        "### Importance of Data Types in Memory Management and Performance\n",
        "\n",
        "##1. **Memory Efficiency**:\n",
        "   ##NumPy arrays are designed to be more memory-efficient than standard Python lists by storing elements of a single data type in contiguous memory locations. Choosing an appropriate data type can reduce memory usage. For example, using `int32` instead of `int64` when smaller integers are sufficient can save half the memory.\n",
        "\n",
        "##2. **Performance**:\n",
        "   ##NumPy performs operations using highly optimized C libraries, which makes it much faster than using pure Python loops. However, the performance also depends on the data type. For example, performing arithmetic operations on `float32` arrays will typically be faster than on `float64` arrays due to smaller memory footprint and fewer bits to process.\n",
        "\n",
        "##3. **Consistency and Avoiding Errors**:\n",
        "   ##Ensuring that all elements in a NumPy array are of the same type prevents unexpected type-related bugs. In contrast to Python lists, which can contain mixed types, NumPy arrays are homogeneous, allowing for efficient batch operations.\n",
        "\n",
        "##4. **Compatibility with Hardware**:\n",
        "   ##Some hardware (like GPUs) can handle certain data types more efficiently. For instance, many deep learning frameworks prefer `float32` for computations on GPUs, as they provide a balance between precision and speed.\n",
        "\n",
        "##Thus, selecting the appropriate data type for NumPy arrays is crucial for optimal memory usage and performance when dealing with large-scale data processing tasks."
      ],
      "metadata": {
        "id": "9ZPoJRPYYNmy"
      }
    },
    {
      "cell_type": "markdown",
      "source": [
        "----------------------------------------------------------------------------------------------------------------------------------------------"
      ],
      "metadata": {
        "id": "oiVczo1TZ-76"
      }
    },
    {
      "cell_type": "markdown",
      "source": [
        "##Q5. Define ndarrays in NumPy and explain their key features. How do they differ from standard Python lists?"
      ],
      "metadata": {
        "id": "iVRyYr0qZ-yH"
      }
    },
    {
      "cell_type": "markdown",
      "source": [
        "##Ans. Definition of ndarray in NumPy\n",
        "##In NumPy, an ndarray (N-dimensional array) is a multidimensional, homogeneous data structure used to store and manipulate numerical data efficiently. The ndarray forms the core of the NumPy library and is a generalization of a matrix that can hold elements of a single data type, regardless of the number of dimensions.\n",
        "\n",
        "##Key Features of ndarray\n",
        "##Homogeneity: All elements in an ndarray must have the same data type, unlike Python lists, which can contain elements of mixed types.\n",
        "\n",
        "##N-Dimensional: ndarray can be 1-dimensional (like a list), 2-dimensional (like a matrix), or have any arbitrary number of dimensions. This makes it highly flexible for representing and manipulating multi-dimensional data, such as tensors in machine learning.\n",
        "\n",
        "##Efficient Memory Management:\n",
        "\n",
        "##NumPy arrays store data in contiguous blocks of memory, making them highly efficient for both storage and operations.\n",
        "##This is in contrast to Python lists, which store pointers to objects scattered in memory, making them less memory-efficient.\n",
        "\n",
        "##Vectorized Operations:\n",
        "\n",
        "##NumPy operations are vectorized, meaning that mathematical operations can be performed element-wise across entire arrays without the need for explicit loops.\n",
        "\n",
        "##For example, multiplying all elements of an array by a scalar is done in one operation, which is both fast and concise.\n",
        "\n",
        "##Broadcasting:\n",
        "\n",
        "##NumPy arrays support broadcasting, a mechanism that allows operations between arrays of different shapes and sizes in a way that automatically expands smaller arrays to match the dimensions of the larger array, without requiring explicit resizing.\n",
        "\n",
        "##Built-in Functions and Optimizations:\n",
        "\n",
        "##NumPy provides a vast array of optimized mathematical functions, such as element-wise arithmetic, statistical computations, and linear algebra routines.\n",
        "\n",
        "##Support for Advanced Indexing and Slicing:\n",
        "\n",
        "##ndarrays offer more sophisticated indexing and slicing mechanisms than Python lists, making it easier to manipulate subarrays or specific elements, even for higher-dimensional data.\n",
        "\n",
        "##Example of an ndarray vs Python List:\n",
        "##Python List:"
      ],
      "metadata": {
        "id": "EzWprunCZ-pi"
      }
    },
    {
      "cell_type": "code",
      "source": [
        "py_list = [1, 2, 3]"
      ],
      "metadata": {
        "id": "EjKJF0yQcH8_"
      },
      "execution_count": 9,
      "outputs": []
    },
    {
      "cell_type": "markdown",
      "source": [
        "##NumPy ndarray:"
      ],
      "metadata": {
        "id": "BJpllZGfblRV"
      }
    },
    {
      "cell_type": "code",
      "source": [
        "import numpy as np\n",
        "np_array = np.array([1, 2, 3])"
      ],
      "metadata": {
        "id": "AZXtcOpicQ7q"
      },
      "execution_count": 10,
      "outputs": []
    },
    {
      "cell_type": "markdown",
      "source": [
        "##To add 2 to all elements:\n",
        "##Python List:"
      ],
      "metadata": {
        "id": "E9SJ1Mz5blLQ"
      }
    },
    {
      "cell_type": "code",
      "source": [
        "[x + 2 for x in py_list]"
      ],
      "metadata": {
        "colab": {
          "base_uri": "https://localhost:8080/"
        },
        "id": "coIrIVRjckXV",
        "outputId": "67040b5b-9192-4abf-e16c-de5ff4d57567"
      },
      "execution_count": 11,
      "outputs": [
        {
          "output_type": "execute_result",
          "data": {
            "text/plain": [
              "[3, 4, 5]"
            ]
          },
          "metadata": {},
          "execution_count": 11
        }
      ]
    },
    {
      "cell_type": "markdown",
      "source": [
        "##NumPy ndarray:"
      ],
      "metadata": {
        "id": "McEUMuHublDw"
      }
    },
    {
      "cell_type": "code",
      "source": [
        "np_array + 2"
      ],
      "metadata": {
        "colab": {
          "base_uri": "https://localhost:8080/"
        },
        "id": "cWD9fdOwcvJk",
        "outputId": "caa40493-1f97-4d40-d453-f82f5810baa8"
      },
      "execution_count": 12,
      "outputs": [
        {
          "output_type": "execute_result",
          "data": {
            "text/plain": [
              "array([3, 4, 5])"
            ]
          },
          "metadata": {},
          "execution_count": 12
        }
      ]
    },
    {
      "cell_type": "markdown",
      "source": [
        "----------------------------------------------------------------------------------------------------------------------------------------"
      ],
      "metadata": {
        "id": "dmHLAJLedAH0"
      }
    },
    {
      "cell_type": "markdown",
      "source": [
        "##Q6. Analyze the performance benefits of NumPy arrays over Python lists for large-scale numerical operations."
      ],
      "metadata": {
        "id": "wVZIsiVXc_-r"
      }
    },
    {
      "cell_type": "markdown",
      "source": [
        "## Performance Benefits of NumPy Arrays Over Python Lists for Large-Scale Numerical Operations\n",
        "\n",
        "##NumPy arrays (`ndarray`) offer significant performance advantages over Python lists, especially for large-scale numerical operations. These benefits primarily stem from **memory efficiency**, **vectorization**, and **optimized C-based computations**. Let’s break down the key performance benefits:\n",
        "\n",
        "## 1. **Memory Efficiency**\n",
        "\n",
        "##- **Contiguous Memory Layout**:\n",
        "##- NumPy arrays store elements in contiguous blocks of memory, whereas Python lists store pointers to objects scattered across memory.\n",
        "  ##- This means NumPy arrays take up significantly less memory since only the raw data is stored in a fixed-size format (e.g., `int32` or `float64`), without the overhead of individual object pointers like Python lists.\n",
        "\n",
        "##- **Homogeneous Data Types**:\n",
        "##- NumPy arrays are homogeneous, meaning all elements must have the same data type (e.g., all integers or all floats). This uniformity allows NumPy to optimize memory usage and performance.\n",
        "##- Python lists, on the other hand, are heterogeneous and must store metadata for each element’s type, increasing memory consumption and slowing down operations.\n",
        "\n",
        "##**Example: Memory usage comparison**"
      ],
      "metadata": {
        "id": "ZaUwShZ1c_1G"
      }
    },
    {
      "cell_type": "code",
      "source": [
        "import numpy as np\n",
        "import sys\n",
        "\n",
        "py_list = list(range(1000))\n",
        "np_array = np.arange(1000)\n",
        "\n",
        "print(f\"Memory used by Python list: {sys.getsizeof(py_list)} bytes\")\n",
        "print(f\"Memory used by NumPy array: {np_array.nbytes} bytes\")"
      ],
      "metadata": {
        "colab": {
          "base_uri": "https://localhost:8080/"
        },
        "id": "NZ3ssmngkrNX",
        "outputId": "32c5e000-9b3f-4335-a198-1fb47808764e"
      },
      "execution_count": 24,
      "outputs": [
        {
          "output_type": "stream",
          "name": "stdout",
          "text": [
            "Memory used by Python list: 8056 bytes\n",
            "Memory used by NumPy array: 8000 bytes\n"
          ]
        }
      ]
    },
    {
      "cell_type": "markdown",
      "source": [
        "##- Python lists generally use more memory due to their pointers, whereas NumPy arrays directly store data with less overhead.\n",
        "\n",
        "## 2. **Vectorized Operations**\n",
        "\n",
        "##- **Element-Wise Operations Without Loops**:\n",
        "##- NumPy arrays allow element-wise operations to be performed directly on the entire array without the need for explicit loops. This is called **vectorization**.\n",
        "##- Python lists require explicit iteration to perform element-wise operations, which is both slower and more verbose.\n",
        "\n",
        "##**Example: Element-wise addition**\n",
        "\n",
        "##- Python List (with loop):"
      ],
      "metadata": {
        "id": "-yaWYs_EkkZp"
      }
    },
    {
      "cell_type": "code",
      "source": [
        "py_list = [1, 2, 3, 4, 5]\n",
        "py_result = [x + 2 for x in py_list]\n",
        "\n",
        "np_array = np.array([1, 2, 3, 4, 5])\n",
        "np_result = np_array + 2"
      ],
      "metadata": {
        "id": "-_rbi1fSj9Pu"
      },
      "execution_count": 23,
      "outputs": []
    },
    {
      "cell_type": "markdown",
      "source": [
        "##**Performance Impact**: For large arrays, the performance difference becomes substantial. The vectorized operations in NumPy run at compiled C speed, whereas Python list operations are interpreted and slower due to loops and dynamic typing.\n",
        "\n",
        "## 3. **Optimized Mathematical and Statistical Functions**\n",
        "\n",
        "##- NumPy provides a large number of optimized mathematical functions (e.g., `mean()`, `sum()`, `sqrt()`, `dot()`, etc.) that are much faster than their Python equivalents.\n",
        "##- These functions are implemented in C, taking full advantage of low-level optimizations and hardware acceleration.\n",
        "\n",
        "##**Example: Summing elements of a large array**"
      ],
      "metadata": {
        "id": "VZxle5Izj1F6"
      }
    },
    {
      "cell_type": "code",
      "source": [
        "import numpy as np\n",
        "import time\n",
        "\n",
        "py_list = list(range(1000000))\n",
        "np_array = np.arange(1000000)\n",
        "\n",
        "# Python list sum\n",
        "start_time = time.time()\n",
        "sum(py_list)\n",
        "print(f\"Python list sum time: {time.time() - start_time}\")\n",
        "\n",
        "# NumPy array sum\n",
        "start_time = time.time()\n",
        "np.sum(np_array)\n",
        "print(f\"NumPy array sum time: {time.time() - start_time}\")"
      ],
      "metadata": {
        "colab": {
          "base_uri": "https://localhost:8080/"
        },
        "id": "f_F6UVgOjtI_",
        "outputId": "d545f3e1-311d-480d-c74a-463875d93b22"
      },
      "execution_count": 16,
      "outputs": [
        {
          "output_type": "stream",
          "name": "stdout",
          "text": [
            "Python list sum time: 0.007981061935424805\n",
            "NumPy array sum time: 0.0018444061279296875\n"
          ]
        }
      ]
    },
    {
      "cell_type": "markdown",
      "source": [
        "##**Performance Impact**: NumPy’s C-based sum function is significantly faster than Python’s built-in sum, especially as the data size grows.\n",
        "\n",
        "## 4. **Broadcasting**\n",
        "\n",
        "##- **Broadcasting** allows NumPy to perform operations on arrays of different shapes and sizes without creating new arrays or loops. This avoids memory allocation overhead and speeds up computations.\n",
        "##- In Python lists, similar operations would require resizing arrays manually or using nested loops, which is far less efficient.\n",
        "\n",
        "##**Example: Broadcasting in NumPy**"
      ],
      "metadata": {
        "id": "VNhY2Iwpjl6N"
      }
    },
    {
      "cell_type": "code",
      "source": [
        "arr1 = np.array([1, 2, 3])\n",
        "arr2 = np.array([[1], [2], [3]])\n",
        "\n",
        "result = arr1 + arr2  # Automatically broadcasts arr1 to match arr2's shape"
      ],
      "metadata": {
        "id": "DPV__jS-jb1X"
      },
      "execution_count": 15,
      "outputs": []
    },
    {
      "cell_type": "markdown",
      "source": [
        "##In Python lists, handling such operations would require more complex and inefficient looping.\n",
        "\n",
        "## 5. **Compiled C/C++ Code for Computation**\n",
        "\n",
        "##- NumPy is implemented in highly optimized C and C++ code. The low-level operations are compiled, making them significantly faster than Python’s interpreted operations.\n",
        "##- Python lists, by contrast, rely on high-level, dynamically typed operations, which are much slower due to the overhead of type checking, memory allocation, and interpretation.\n",
        "\n",
        "## 6. **Avoiding Python Overhead**\n",
        "\n",
        "##- Python is a dynamically typed language, meaning each time you perform an operation on a Python list, the interpreter checks the type of each element and performs memory management tasks like reference counting.\n",
        "##- NumPy avoids much of this overhead by using fixed data types and pre-allocating memory, leading to much faster execution for numerical operations.\n",
        "\n",
        "## 7. **Efficient Handling of Multidimensional Data**\n",
        "\n",
        "##- NumPy natively supports multidimensional arrays (2D, 3D, etc.), making operations on matrices or tensors straightforward and efficient.\n",
        "##- In contrast, Python lists require manually constructing lists of lists for 2D arrays, and operations across such structures are complex and slow.\n",
        "\n",
        "##**Example: Matrix multiplication**"
      ],
      "metadata": {
        "id": "woLghggFhtpl"
      }
    },
    {
      "cell_type": "code",
      "source": [
        "# NumPy\n",
        "A = np.random.rand(1000, 1000)\n",
        "B = np.random.rand(1000, 1000)\n",
        "\n",
        "result = np.dot(A, B)  # Efficient matrix multiplication"
      ],
      "metadata": {
        "id": "UqjHZknng6rJ"
      },
      "execution_count": 14,
      "outputs": []
    },
    {
      "cell_type": "markdown",
      "source": [
        "##Doing the same matrix multiplication with Python lists would require complex nested loops, making it much slower and harder to implement."
      ],
      "metadata": {
        "id": "nfXUZcUhc_sg"
      }
    },
    {
      "cell_type": "markdown",
      "source": [
        "---------------------------------------------------------------------------------------------------------------------------------------"
      ],
      "metadata": {
        "id": "iOBuZzQUc_ir"
      }
    },
    {
      "cell_type": "markdown",
      "source": [
        "##Q7. Compare vstack() and hstack() functions in NumPy. Provide examples demonstrating their usage and output."
      ],
      "metadata": {
        "id": "9AgbBaJekvki"
      }
    },
    {
      "cell_type": "markdown",
      "source": [
        "##Ans. In NumPy, both vstack() and hstack() are used to stack arrays together, but they differ in how they concatenate the arrays. Here's a comparison and examples to demonstrate their usage:\n",
        "\n",
        "##1. vstack() (Vertical Stack)\n",
        "\n",
        "##Functionality:\n",
        "\n",
        "##vstack() stacks arrays vertically, i.e., along rows (axis 0). It combines multiple arrays by appending them one on top of another.\n",
        "\n",
        "##All arrays must have the same number of columns but can have different numbers of rows.\n",
        "\n",
        "##Usage: This function is useful when you want to combine arrays vertically as if adding rows to a matrix.\n",
        "\n",
        "##Example of vstack():"
      ],
      "metadata": {
        "id": "rKE9wq6Bkv-e"
      }
    },
    {
      "cell_type": "code",
      "source": [
        "import numpy as np\n",
        "\n",
        "# Two 1D arrays\n",
        "arr1 = np.array([1, 2, 3])\n",
        "arr2 = np.array([4, 5, 6])\n",
        "\n",
        "# Vertical stacking\n",
        "result_vstack = np.vstack((arr1, arr2))\n",
        "print(result_vstack)"
      ],
      "metadata": {
        "colab": {
          "base_uri": "https://localhost:8080/"
        },
        "id": "gcSZ28c4ljhc",
        "outputId": "69551631-7c20-4269-c43e-8f00bbdc3c6c"
      },
      "execution_count": 25,
      "outputs": [
        {
          "output_type": "stream",
          "name": "stdout",
          "text": [
            "[[1 2 3]\n",
            " [4 5 6]]\n"
          ]
        }
      ]
    },
    {
      "cell_type": "markdown",
      "source": [
        "##Example with 2D arrays:"
      ],
      "metadata": {
        "id": "nB9mspk9kwYJ"
      }
    },
    {
      "cell_type": "code",
      "source": [
        "arr3 = np.array([[1, 2, 3], [4, 5, 6]])\n",
        "arr4 = np.array([[7, 8, 9]])\n",
        "\n",
        "result_vstack_2D = np.vstack((arr3, arr4))\n",
        "print(result_vstack_2D)"
      ],
      "metadata": {
        "colab": {
          "base_uri": "https://localhost:8080/"
        },
        "id": "7hVJ3Xxxlp_H",
        "outputId": "e0d06c39-6629-4f20-f0e6-4760140121da"
      },
      "execution_count": 26,
      "outputs": [
        {
          "output_type": "stream",
          "name": "stdout",
          "text": [
            "[[1 2 3]\n",
            " [4 5 6]\n",
            " [7 8 9]]\n"
          ]
        }
      ]
    },
    {
      "cell_type": "markdown",
      "source": [
        "##2. hstack() (Horizontal Stack)\n",
        "\n",
        "##Functionality:\n",
        "\n",
        "##*hstack() stacks arrays horizontally, i.e., along columns (axis 1). It combines multiple arrays by appending them side by side.\n",
        "\n",
        "##*All arrays must have the same number of rows but can have different numbers of columns.\n",
        "\n",
        "##*Usage: This function is useful when you want to combine arrays horizontally, as if adding columns to a matrix.\n",
        "\n",
        "##Example of hstack():"
      ],
      "metadata": {
        "id": "bb-bKi8Jll2R"
      }
    },
    {
      "cell_type": "code",
      "source": [
        "import numpy as np\n",
        "\n",
        "# Two 1D arrays\n",
        "arr1 = np.array([1, 2, 3])\n",
        "arr2 = np.array([4, 5, 6])\n",
        "\n",
        "# Horizontal stacking\n",
        "result_hstack = np.hstack((arr1, arr2))\n",
        "print(result_hstack)"
      ],
      "metadata": {
        "colab": {
          "base_uri": "https://localhost:8080/"
        },
        "id": "eGdvMRK_mCAs",
        "outputId": "7340431c-75ef-4224-865a-da672d7ca0e6"
      },
      "execution_count": 27,
      "outputs": [
        {
          "output_type": "stream",
          "name": "stdout",
          "text": [
            "[1 2 3 4 5 6]\n"
          ]
        }
      ]
    },
    {
      "cell_type": "markdown",
      "source": [
        "##Example with 2D arrays:"
      ],
      "metadata": {
        "id": "3xWfyfNmllwf"
      }
    },
    {
      "cell_type": "code",
      "source": [
        "arr3 = np.array([[1, 2, 3], [4, 5, 6]])\n",
        "arr4 = np.array([[7, 8, 9], [10, 11, 12]])\n",
        "\n",
        "result_hstack_2D = np.hstack((arr3, arr4))\n",
        "print(result_hstack_2D)"
      ],
      "metadata": {
        "colab": {
          "base_uri": "https://localhost:8080/"
        },
        "id": "gswa1bqomIxl",
        "outputId": "e3e3418d-6223-4aa6-e48b-640ded8671ee"
      },
      "execution_count": 28,
      "outputs": [
        {
          "output_type": "stream",
          "name": "stdout",
          "text": [
            "[[ 1  2  3  7  8  9]\n",
            " [ 4  5  6 10 11 12]]\n"
          ]
        }
      ]
    },
    {
      "cell_type": "markdown",
      "source": [
        "--------------------------------------------------------------------------------------------------------------------------------------"
      ],
      "metadata": {
        "id": "_OvxdMTullqc"
      }
    },
    {
      "cell_type": "markdown",
      "source": [
        "##Q8. Explain the differences between fliplr() and flipud() methods in NumPy, including their effects on various array dimensions."
      ],
      "metadata": {
        "id": "LiimmaBqlllr"
      }
    },
    {
      "cell_type": "markdown",
      "source": [
        "##Ans. In NumPy, both fliplr() and flipud() are used to reverse the order of elements in an array, but they do so along different axes. Here's a breakdown of the differences between them:\n",
        "\n",
        "##1. fliplr() (Flip Left to Right)\n",
        "\n",
        "##Functionality:\n",
        "\n",
        "##fliplr() reverses the columns of a 2D array (or the last axis of higher-dimensional arrays) by flipping the elements horizontally, left to right.\n",
        "\n",
        "##This operation is only valid for arrays with two or more dimensions; it raises an error for 1D arrays.\n",
        "\n",
        "##Effect:\n",
        "\n",
        "##For a 2D array, it flips the array horizontally, reversing the order of columns.\n",
        "\n",
        "##For higher-dimensional arrays, it flips the elements along the last axis (usually the column axis in 2D slices).\n",
        "\n",
        "##Example of fliplr() with a 2D array:"
      ],
      "metadata": {
        "id": "W9vT0JZakwx7"
      }
    },
    {
      "cell_type": "code",
      "source": [
        "import numpy as np\n",
        "\n",
        "arr = np.array([[1, 2, 3],\n",
        "                [4, 5, 6],\n",
        "                [7, 8, 9]])\n",
        "\n",
        "result_fliplr = np.fliplr(arr)\n",
        "print(result_fliplr)"
      ],
      "metadata": {
        "colab": {
          "base_uri": "https://localhost:8080/"
        },
        "id": "frTTvTjGm7Yh",
        "outputId": "aaba1462-7444-4463-a3a9-4e4eecb3380c"
      },
      "execution_count": 29,
      "outputs": [
        {
          "output_type": "stream",
          "name": "stdout",
          "text": [
            "[[3 2 1]\n",
            " [6 5 4]\n",
            " [9 8 7]]\n"
          ]
        }
      ]
    },
    {
      "cell_type": "markdown",
      "source": [
        "##Example with a 3D array (flipping the last axis):"
      ],
      "metadata": {
        "id": "VdnQNbCUnD84"
      }
    },
    {
      "cell_type": "code",
      "source": [
        "arr_3d = np.array([[[1, 2], [3, 4]],\n",
        "                   [[5, 6], [7, 8]]])\n",
        "\n",
        "result_fliplr_3d = np.fliplr(arr_3d)\n",
        "print(result_fliplr_3d)"
      ],
      "metadata": {
        "colab": {
          "base_uri": "https://localhost:8080/"
        },
        "id": "49nhrBU-m-om",
        "outputId": "491098a9-8bf9-46b0-b218-0bb8f84b950b"
      },
      "execution_count": 30,
      "outputs": [
        {
          "output_type": "stream",
          "name": "stdout",
          "text": [
            "[[[3 4]\n",
            "  [1 2]]\n",
            "\n",
            " [[7 8]\n",
            "  [5 6]]]\n"
          ]
        }
      ]
    },
    {
      "cell_type": "markdown",
      "source": [
        "##2. flipud() (Flip Up to Down)\n",
        "\n",
        "##Functionality:\n",
        "\n",
        "##flipud() reverses the rows of a 2D array by flipping the elements vertically, from top to bottom.\n",
        "\n",
        "##This function is valid for arrays of any dimension, and it flips along the first axis (axis 0, typically the row axis).\n",
        "\n",
        "##Effect:\n",
        "\n",
        "##For a 2D array, it flips the array vertically, reversing the order of rows.\n",
        "\n",
        "##For higher-dimensional arrays, it flips the elements along the first axis.\n",
        "\n",
        "##Example of flipud() with a 2D array:"
      ],
      "metadata": {
        "id": "rPTN-FVknRHQ"
      }
    },
    {
      "cell_type": "code",
      "source": [
        "arr = np.array([[1, 2, 3],\n",
        "                [4, 5, 6],\n",
        "                [7, 8, 9]])\n",
        "\n",
        "result_flipud = np.flipud(arr)\n",
        "print(result_flipud)"
      ],
      "metadata": {
        "colab": {
          "base_uri": "https://localhost:8080/"
        },
        "id": "oa2QBvq4nKWB",
        "outputId": "dd6928a9-9bcc-4c92-f61c-4be4e19b77ae"
      },
      "execution_count": 31,
      "outputs": [
        {
          "output_type": "stream",
          "name": "stdout",
          "text": [
            "[[7 8 9]\n",
            " [4 5 6]\n",
            " [1 2 3]]\n"
          ]
        }
      ]
    },
    {
      "cell_type": "markdown",
      "source": [
        "##Example with a 3D array (flipping along the first axis):"
      ],
      "metadata": {
        "id": "WZl5Svetn4jJ"
      }
    },
    {
      "cell_type": "code",
      "source": [
        "arr_3d = np.array([[[1, 2], [3, 4]],\n",
        "                   [[5, 6], [7, 8]]])\n",
        "\n",
        "result_flipud_3d = np.flipud(arr_3d)\n",
        "print(result_flipud_3d)"
      ],
      "metadata": {
        "colab": {
          "base_uri": "https://localhost:8080/"
        },
        "id": "YvSLxdtNnct4",
        "outputId": "ebe37805-136f-41f5-dd2b-00e9ac072356"
      },
      "execution_count": 32,
      "outputs": [
        {
          "output_type": "stream",
          "name": "stdout",
          "text": [
            "[[[5 6]\n",
            "  [7 8]]\n",
            "\n",
            " [[1 2]\n",
            "  [3 4]]]\n"
          ]
        }
      ]
    },
    {
      "cell_type": "markdown",
      "source": [
        "##Key Points:\n",
        "\n",
        "##* fliplr() is useful for flipping arrays horizontally (column-wise).\n",
        "##* flipud() is useful for flipping arrays vertically (row-wise).\n",
        "##* Both functions maintain the original shape and size of the array but reorder the elements along the specified axis."
      ],
      "metadata": {
        "id": "xy3XVdEHoCc-"
      }
    },
    {
      "cell_type": "markdown",
      "source": [
        "--------------------------------------------------------------------------------------------------------------------------------------"
      ],
      "metadata": {
        "id": "ZlfZ-Lzwogrx"
      }
    },
    {
      "cell_type": "markdown",
      "source": [
        "##Q9. Discuss the functionality of the array_split() method in NumPy. How does it handle uneven splits?"
      ],
      "metadata": {
        "id": "MUbVCSmnogmo"
      }
    },
    {
      "cell_type": "markdown",
      "source": [
        "##Ans. Functionality of array_split() in NumPy\n",
        "\n",
        "##The array_split() function in NumPy splits an array into multiple sub-arrays based on the specified number of splits. It's similar to the split() function but offers greater flexibility in handling cases where the array cannot be evenly split.\n",
        "\n",
        "##* ary: The input array to be split.\n",
        "\n",
        "##indices_or_sections:\n",
        "##* If an integer is provided, it specifies the number of sub-arrays to create.\n",
        "##*If a list or array of indices is provided, it splits the array at the specified positions.\n",
        "##*axis: The axis along which to split the array. Default is 0 (along rows).\n",
        "\n",
        "##Key Feature: Handling Uneven Splits\n",
        "\n",
        "## Unlike the split() function, which raises an error if the array cannot be divided evenly, array_split() can handle uneven splits. When the number of elements cannot be divided evenly by the number of splits, array_split() distributes the remainder elements as evenly as possible across the sub-arrays.\n",
        "\n",
        "## How array_split() Handles Uneven Splits\n",
        "## If the array length is not a multiple of the number of sections, array_split() will create some smaller sub-arrays. The extra elements are distributed among the earlier sub-arrays, ensuring that the difference in size between the sub-arrays is minimal (at most one element difference).\n",
        "\n",
        "##Example of array_split() with Even Splits:"
      ],
      "metadata": {
        "id": "OpjOjeG9ogKd"
      }
    },
    {
      "cell_type": "code",
      "source": [
        "import numpy as np\n",
        "\n",
        "arr = np.array([1, 2, 3, 4, 5, 6])\n",
        "\n",
        "# Split array into 3 equal parts\n",
        "result_even = np.array_split(arr, 3)\n",
        "print(result_even)"
      ],
      "metadata": {
        "colab": {
          "base_uri": "https://localhost:8080/"
        },
        "id": "sSL59ZorpaIf",
        "outputId": "e7de6237-6cd7-4907-ff79-9f375fe1b720"
      },
      "execution_count": 33,
      "outputs": [
        {
          "output_type": "stream",
          "name": "stdout",
          "text": [
            "[array([1, 2]), array([3, 4]), array([5, 6])]\n"
          ]
        }
      ]
    },
    {
      "cell_type": "markdown",
      "source": [
        "##Example of array_split() with Uneven Splits:"
      ],
      "metadata": {
        "id": "Z7TpOoF3ogES"
      }
    },
    {
      "cell_type": "code",
      "source": [
        "arr = np.array([1, 2, 3, 4, 5, 6, 7])\n",
        "\n",
        "# Split array into 3 parts (uneven split)\n",
        "result_uneven = np.array_split(arr, 3)\n",
        "print(result_uneven)"
      ],
      "metadata": {
        "colab": {
          "base_uri": "https://localhost:8080/"
        },
        "id": "RYBnHDN0n8Jx",
        "outputId": "cec4a9d6-ed57-4664-e8f0-8106c1c4fb58"
      },
      "execution_count": 34,
      "outputs": [
        {
          "output_type": "stream",
          "name": "stdout",
          "text": [
            "[array([1, 2, 3]), array([4, 5]), array([6, 7])]\n"
          ]
        }
      ]
    },
    {
      "cell_type": "markdown",
      "source": [
        "##* Since the array length (7) is not evenly divisible by 3, the first sub-array receives 3 elements, and the other two sub-arrays receive 2 elements each. The extra element is distributed to the first sub-array, ensuring a minimal size difference.\n",
        "\n",
        "##Example with 2D Arrays:"
      ],
      "metadata": {
        "id": "Z9R2LKYfpu34"
      }
    },
    {
      "cell_type": "code",
      "source": [
        "arr_2d = np.array([[1, 2, 3], [4, 5, 6], [7, 8, 9]])\n",
        "\n",
        "# Split array into 2 parts along axis 0 (rows)\n",
        "result_2d = np.array_split(arr_2d, 2, axis=0)\n",
        "print(result_2d)"
      ],
      "metadata": {
        "colab": {
          "base_uri": "https://localhost:8080/"
        },
        "id": "5Onku5lgpr2N",
        "outputId": "d523b669-0e22-476e-d042-e0abeff10616"
      },
      "execution_count": 35,
      "outputs": [
        {
          "output_type": "stream",
          "name": "stdout",
          "text": [
            "[array([[1, 2, 3],\n",
            "       [4, 5, 6]]), array([[7, 8, 9]])]\n"
          ]
        }
      ]
    },
    {
      "cell_type": "markdown",
      "source": [
        "##Example of Specifying Split Points Using Indices:"
      ],
      "metadata": {
        "id": "-qj5Ih4pp5IU"
      }
    },
    {
      "cell_type": "code",
      "source": [
        "arr = np.array([1, 2, 3, 4, 5, 6, 7])\n",
        "\n",
        "# Specify split points at indices 2 and 5\n",
        "result_indices = np.array_split(arr, [2, 5])\n",
        "print(result_indices)"
      ],
      "metadata": {
        "colab": {
          "base_uri": "https://localhost:8080/"
        },
        "id": "Fr2Qvthxp0oG",
        "outputId": "54bf4443-c27a-4311-9d4c-35d7f233e514"
      },
      "execution_count": 36,
      "outputs": [
        {
          "output_type": "stream",
          "name": "stdout",
          "text": [
            "[array([1, 2]), array([3, 4, 5]), array([6, 7])]\n"
          ]
        }
      ]
    },
    {
      "cell_type": "markdown",
      "source": [
        "##The array is split at indices 2 and 5, producing three sub-arrays: the first contains the first two elements, the second contains elements 3 to 5, and the last contains elements 6 and 7."
      ],
      "metadata": {
        "id": "p6ZZQfiHqEeu"
      }
    },
    {
      "cell_type": "markdown",
      "source": [
        "---------------------------------------------------------------------------------------------------------------------------------------"
      ],
      "metadata": {
        "id": "AotA1qrGqT7o"
      }
    },
    {
      "cell_type": "markdown",
      "source": [
        "##Q10. Explain the concepts of vectorization and broadcasting in NumPy. How do they contribute to efficient array operations?"
      ],
      "metadata": {
        "id": "IXfID76-qT3m"
      }
    },
    {
      "cell_type": "markdown",
      "source": [
        "##Ans. Concepts of Vectorization and Broadcasting in NumPy\n",
        "\n",
        "##Both vectorization and broadcasting are key concepts in NumPy that allow for efficient and fast array operations. They eliminate the need for explicit loops in Python, enabling computations to be expressed in a concise, readable way while significantly improving performance by leveraging low-level optimizations.\n",
        "\n",
        "##1. Vectorization\n",
        "\n",
        "##Vectorization refers to the process of applying operations on entire arrays (or large portions of them) in a single step, without the need for explicit Python loops. In NumPy, operations on arrays are automatically vectorized, meaning they are applied element-wise across the entire array.\n",
        "\n",
        "##Key Features:\n",
        "##* Element-wise operations: Mathematical operations (+, -, *, /) can be performed directly on arrays, and they are applied to each element without the need for loops.\n",
        "##* High performance: Vectorized operations are executed in highly optimized C and Fortran code under the hood, which results in much faster execution compared to Python loops.\n",
        "\n",
        "##Example of Vectorization:"
      ],
      "metadata": {
        "id": "PdX1Z5hTqTzi"
      }
    },
    {
      "cell_type": "code",
      "source": [
        "import numpy as np\n",
        "\n",
        "# Create two NumPy arrays\n",
        "arr1 = np.array([1, 2, 3, 4])\n",
        "arr2 = np.array([5, 6, 7, 8])\n",
        "\n",
        "# Vectorized addition (element-wise)\n",
        "result = arr1 + arr2\n",
        "print(result)"
      ],
      "metadata": {
        "colab": {
          "base_uri": "https://localhost:8080/"
        },
        "id": "d5f-XhCrrXKH",
        "outputId": "f538c424-5c69-4f4d-90a3-92fc36d6b99b"
      },
      "execution_count": 37,
      "outputs": [
        {
          "output_type": "stream",
          "name": "stdout",
          "text": [
            "[ 6  8 10 12]\n"
          ]
        }
      ]
    },
    {
      "cell_type": "markdown",
      "source": [
        "##Performance Impact:\n",
        "\n",
        "##Performing an operation like element-wise addition using a Python loop:"
      ],
      "metadata": {
        "id": "hbNeqR7VqTu3"
      }
    },
    {
      "cell_type": "code",
      "source": [
        "# Python list loop addition\n",
        "list1 = [1, 2, 3, 4]\n",
        "list2 = [5, 6, 7, 8]\n",
        "result = [x + y for x, y in zip(list1, list2)]"
      ],
      "metadata": {
        "id": "QstIm3oErgz-"
      },
      "execution_count": 38,
      "outputs": []
    },
    {
      "cell_type": "markdown",
      "source": [
        "##* The loop-based approach is much slower, especially for large arrays, because Python’s interpreter handles each loop iteration, whereas vectorized operations in NumPy run at compiled C speed.\n",
        "\n",
        "##Advantages of Vectorization:\n",
        "\n",
        "##* Faster execution: By avoiding loops, vectorization can dramatically improve performance for large datasets.\n",
        "\n",
        "##* Cleaner syntax: Operations can be written in a concise and mathematical way, improving code readability and reducing the chance of errors.\n",
        "\n",
        "##* Memory efficiency: Vectorized operations operate on arrays directly without creating temporary Python objects.\n",
        "\n",
        "##2. Broadcasting\n",
        "\n",
        "##Broadcasting allows NumPy to perform operations on arrays of different shapes by automatically expanding the smaller array to match the shape of the larger one. This avoids the need for creating large intermediate arrays, optimizing both performance and memory usage.\n",
        "\n",
        "##Rules for Broadcasting:\n",
        "##* If the arrays have different shapes, NumPy tries to make their shapes compatible by \"stretching\" the smaller array along its dimensions.\n",
        "##* Dimensions are compared from right to left, and two dimensions are compatible if:\n",
        "##* They are equal, or\n",
        "##* One of them is 1.\n",
        "\n",
        "##Example of Broadcasting:"
      ],
      "metadata": {
        "id": "oNpD5OiLqTq8"
      }
    },
    {
      "cell_type": "code",
      "source": [
        "import numpy as np\n",
        "\n",
        "# A 1D array\n",
        "arr1 = np.array([1, 2, 3])\n",
        "\n",
        "# A 2D array\n",
        "arr2 = np.array([[10], [20], [30]])\n",
        "\n",
        "# Broadcasting: 1D array is \"stretched\" along rows to match the 2D array\n",
        "result = arr1 + arr2\n",
        "print(result)"
      ],
      "metadata": {
        "colab": {
          "base_uri": "https://localhost:8080/"
        },
        "id": "by-ubmh9r_FM",
        "outputId": "ecba5693-08d6-438e-a451-885e36a1e676"
      },
      "execution_count": 39,
      "outputs": [
        {
          "output_type": "stream",
          "name": "stdout",
          "text": [
            "[[11 12 13]\n",
            " [21 22 23]\n",
            " [31 32 33]]\n"
          ]
        }
      ]
    },
    {
      "cell_type": "markdown",
      "source": [
        "##Broadcasting in Practice:"
      ],
      "metadata": {
        "id": "Yx4UqHOEqTlv"
      }
    },
    {
      "cell_type": "code",
      "source": [
        "arr1 = np.array([1, 2, 3])\n",
        "arr2 = np.array([[10], [20], [30]])\n",
        "\n",
        "# Broadcasting rule:\n",
        "# arr1 is treated as if it were:\n",
        "# [[1 2 3]\n",
        "#  [1 2 3]\n",
        "#  [1 2 3]]"
      ],
      "metadata": {
        "id": "PBGLPsVcsISF"
      },
      "execution_count": 40,
      "outputs": []
    },
    {
      "cell_type": "markdown",
      "source": [
        "##Common Use Cases for Broadcasting:\n",
        "\n",
        "##* Scalar Operations: A scalar can be broadcasted across an entire array, such as adding a constant to all elements of an array."
      ],
      "metadata": {
        "id": "G6cYKaQWqTM6"
      }
    },
    {
      "cell_type": "code",
      "source": [
        "arr = np.array([1, 2, 3])\n",
        "result = arr + 10  # Scalar 10 is broadcasted to each element\n",
        "print(result)"
      ],
      "metadata": {
        "colab": {
          "base_uri": "https://localhost:8080/"
        },
        "id": "WtW_o-G2sUjm",
        "outputId": "e2f1de9f-ab47-4999-f67c-3ff3167f16e4"
      },
      "execution_count": 41,
      "outputs": [
        {
          "output_type": "stream",
          "name": "stdout",
          "text": [
            "[11 12 13]\n"
          ]
        }
      ]
    },
    {
      "cell_type": "markdown",
      "source": [
        "##Example of Broadcasting Failure:\n",
        "\n",
        "##If the shapes are incompatible, broadcasting will fail:"
      ],
      "metadata": {
        "id": "eKQgK84GqS_4"
      }
    },
    {
      "cell_type": "code",
      "source": [
        "arr1 = np.array([1, 2, 3])\n",
        "arr2 = np.array([[10, 20]])\n",
        "\n",
        "# This will raise an error because the shapes (3,) and (1, 2) are incompatible\n",
        "# Broadcasting will not work here."
      ],
      "metadata": {
        "id": "D2LuJyVcsdDx"
      },
      "execution_count": 42,
      "outputs": []
    },
    {
      "cell_type": "markdown",
      "source": [
        "##Advantages of Broadcasting:\n",
        "\n",
        "##* No need for reshaping: Broadcasting automatically handles differences in array dimensions, eliminating the need to manually reshape arrays.\n",
        "\n",
        "##* Memory-efficient: NumPy does not actually copy data when broadcasting; it just reinterprets the smaller array’s shape, saving memory.\n",
        "\n",
        "##* Performance optimization: Broadcasting speeds up operations by avoiding the creation of intermediate arrays, improving both memory usage and execution time.\n",
        "\n",
        "## Contribution to Efficient Array Operations\n",
        "\n",
        "##1. Performance:\n",
        "\n",
        "##Vectorization: By eliminating Python loops and operating directly at the C level, vectorized operations are orders of magnitude faster, especially for large arrays.\n",
        "\n",
        "##Broadcasting: Broadcasted operations avoid the overhead of explicitly creating temporary arrays with matching shapes, which improves both performance and memory efficiency.\n",
        "\n",
        "##2. Memory Efficiency:\n",
        "\n",
        "##Vectorization: Operates directly on arrays without creating intermediate objects, saving memory.\n",
        "\n",
        "##Broadcasting: Avoids unnecessary duplication of data by virtually expanding smaller arrays rather than physically reshaping them.\n",
        "\n",
        "##3. Cleaner Code:\n",
        "\n",
        "##Both vectorization and broadcasting result in more concise, readable code that resembles mathematical notation. This reduces complexity and makes the code easier to understand and maintain."
      ],
      "metadata": {
        "id": "gtPfL__tqS66"
      }
    },
    {
      "cell_type": "markdown",
      "source": [
        "---------------------------------------------------------------------------------------------------------------------------------------"
      ],
      "metadata": {
        "id": "JdqZ6uxwtKxl"
      }
    },
    {
      "cell_type": "markdown",
      "source": [
        "---------------------------------------------------------------------------------------------------------------------------------------"
      ],
      "metadata": {
        "id": "0Ly4mMyntKel"
      }
    },
    {
      "cell_type": "markdown",
      "source": [
        "#Practical Questions:"
      ],
      "metadata": {
        "id": "L503PtL2tKNS"
      }
    },
    {
      "cell_type": "markdown",
      "source": [
        "##Q1. Create a 3x3 NumPy array with random integers between 1 and 100. Then, interchange its rows and columns."
      ],
      "metadata": {
        "id": "b26balFtt1qd"
      }
    },
    {
      "cell_type": "markdown",
      "source": [
        "##Ans."
      ],
      "metadata": {
        "id": "SgfUSwd6t1k2"
      }
    },
    {
      "cell_type": "code",
      "source": [
        "import numpy as np\n",
        "\n",
        "# Create a 3x3 array with random integers between 1 and 100\n",
        "arr = np.random.randint(1, 101, size=(3, 3))\n",
        "print(\"Original Array:\")\n",
        "print(arr)\n",
        "\n",
        "# Interchanging rows and columns (transpose)\n",
        "transposed_arr = arr.T\n",
        "print(\"\\nTransposed Array:\")\n",
        "print(transposed_arr)"
      ],
      "metadata": {
        "colab": {
          "base_uri": "https://localhost:8080/"
        },
        "id": "KnTwip56t-if",
        "outputId": "231e073b-cf8d-4cd6-b08e-6dc9dacbad16"
      },
      "execution_count": 43,
      "outputs": [
        {
          "output_type": "stream",
          "name": "stdout",
          "text": [
            "Original Array:\n",
            "[[17 74 55]\n",
            " [ 8 64 10]\n",
            " [57 19 49]]\n",
            "\n",
            "Transposed Array:\n",
            "[[17  8 57]\n",
            " [74 64 19]\n",
            " [55 10 49]]\n"
          ]
        }
      ]
    },
    {
      "cell_type": "markdown",
      "source": [
        "---------------------------------------------------------------------------------------------------------------------------------------"
      ],
      "metadata": {
        "id": "wFi4rNTwvLiN"
      }
    },
    {
      "cell_type": "markdown",
      "source": [
        "##Q2. Generate a ID NumPy array with 10 elements. Reshape it into a 2x5 array, then into a 5x2 array."
      ],
      "metadata": {
        "id": "Idw-bOcwvLaq"
      }
    },
    {
      "cell_type": "markdown",
      "source": [
        "##Ans."
      ],
      "metadata": {
        "id": "37iC6zBQvLT1"
      }
    },
    {
      "cell_type": "code",
      "source": [
        "import numpy as np\n",
        "\n",
        "# Create an array with 10 elements (IDs)\n",
        "arr = np.arange(1, 11)  # This will generate numbers from 1 to 10\n",
        "print(\"Original Array:\")\n",
        "print(arr)\n",
        "\n",
        "# Reshape the array to 2x5\n",
        "arr_2x5 = arr.reshape(2, 5)\n",
        "print(\"\\nArray Reshaped to 2x5:\")\n",
        "print(arr_2x5)\n",
        "\n",
        "# Reshape the array to 5x2\n",
        "arr_5x2 = arr.reshape(5, 2)\n",
        "print(\"\\nArray Reshaped to 5x2:\")\n",
        "print(arr_5x2)"
      ],
      "metadata": {
        "colab": {
          "base_uri": "https://localhost:8080/"
        },
        "id": "9ZG1csnTvcYp",
        "outputId": "baeb3710-c697-4e99-bdba-74f43a0e9d84"
      },
      "execution_count": 44,
      "outputs": [
        {
          "output_type": "stream",
          "name": "stdout",
          "text": [
            "Original Array:\n",
            "[ 1  2  3  4  5  6  7  8  9 10]\n",
            "\n",
            "Array Reshaped to 2x5:\n",
            "[[ 1  2  3  4  5]\n",
            " [ 6  7  8  9 10]]\n",
            "\n",
            "Array Reshaped to 5x2:\n",
            "[[ 1  2]\n",
            " [ 3  4]\n",
            " [ 5  6]\n",
            " [ 7  8]\n",
            " [ 9 10]]\n"
          ]
        }
      ]
    },
    {
      "cell_type": "markdown",
      "source": [
        "----------------------------------------------------------------------------------------------------------------------------------------"
      ],
      "metadata": {
        "id": "uh20APNIvp7y"
      }
    },
    {
      "cell_type": "markdown",
      "source": [
        "##Q3. Create a 4x4 NumPy array with random float values. Add a border of zeros around it, resulting in a 6x6 array."
      ],
      "metadata": {
        "id": "lzwv3fpYvizx"
      }
    },
    {
      "cell_type": "markdown",
      "source": [
        "##Ans."
      ],
      "metadata": {
        "id": "TpfdmyvHvitY"
      }
    },
    {
      "cell_type": "code",
      "source": [
        "import numpy as np\n",
        "\n",
        "# Create a 4x4 array with random float values\n",
        "arr = np.random.rand(4, 4)\n",
        "print(\"Original 4x4 Array:\")\n",
        "print(arr)\n",
        "\n",
        "# Add a border of zeros, resulting in a 6x6 array\n",
        "arr_with_border = np.pad(arr, pad_width=1, mode='constant', constant_values=0)\n",
        "print(\"\\nArray with Border of Zeros (6x6):\")\n",
        "print(arr_with_border)"
      ],
      "metadata": {
        "colab": {
          "base_uri": "https://localhost:8080/"
        },
        "id": "g5vhP8P8vxEj",
        "outputId": "32363cb0-ce3b-4839-eeb6-f5fefde646ef"
      },
      "execution_count": 45,
      "outputs": [
        {
          "output_type": "stream",
          "name": "stdout",
          "text": [
            "Original 4x4 Array:\n",
            "[[0.88080334 0.43539024 0.45617014 0.41016985]\n",
            " [0.42463602 0.44923057 0.22716351 0.09501616]\n",
            " [0.71317087 0.61694088 0.79040064 0.81930517]\n",
            " [0.32308838 0.68982742 0.28523245 0.62707725]]\n",
            "\n",
            "Array with Border of Zeros (6x6):\n",
            "[[0.         0.         0.         0.         0.         0.        ]\n",
            " [0.         0.88080334 0.43539024 0.45617014 0.41016985 0.        ]\n",
            " [0.         0.42463602 0.44923057 0.22716351 0.09501616 0.        ]\n",
            " [0.         0.71317087 0.61694088 0.79040064 0.81930517 0.        ]\n",
            " [0.         0.32308838 0.68982742 0.28523245 0.62707725 0.        ]\n",
            " [0.         0.         0.         0.         0.         0.        ]]\n"
          ]
        }
      ]
    },
    {
      "cell_type": "markdown",
      "source": [
        "---------------------------------------------------------------------------------------------------------------------------------------"
      ],
      "metadata": {
        "id": "imfXubbovinv"
      }
    },
    {
      "cell_type": "markdown",
      "source": [
        "##Q4. Using NumPy, create an array of integers from 10 to 60 with a step of 5."
      ],
      "metadata": {
        "id": "NHQkWif0vidp"
      }
    },
    {
      "cell_type": "markdown",
      "source": [
        "##Ans."
      ],
      "metadata": {
        "id": "AZ__3DW-viE9"
      }
    },
    {
      "cell_type": "code",
      "source": [
        "import numpy as np\n",
        "\n",
        "# Create an array of integers from 10 to 60 with a step of 5\n",
        "arr = np.arange(10, 61, 5)\n",
        "print(arr)"
      ],
      "metadata": {
        "colab": {
          "base_uri": "https://localhost:8080/"
        },
        "id": "A0kjXW8Ow6o8",
        "outputId": "516157f0-f580-4047-ed28-31ad1fce2136"
      },
      "execution_count": 46,
      "outputs": [
        {
          "output_type": "stream",
          "name": "stdout",
          "text": [
            "[10 15 20 25 30 35 40 45 50 55 60]\n"
          ]
        }
      ]
    },
    {
      "cell_type": "markdown",
      "source": [
        "-------------------------------------------------------------------------------------------------------------------------------------"
      ],
      "metadata": {
        "id": "d_CBYpRgvh_P"
      }
    },
    {
      "cell_type": "markdown",
      "source": [
        "##Q5. Create a NumPy array of strings ['python', 'numpy', 'pandas']. Apply different case transformations (uppercase, lowercase, title case, etc.) to each element."
      ],
      "metadata": {
        "id": "JBSn3Xlwvhys"
      }
    },
    {
      "cell_type": "markdown",
      "source": [
        "##Ans."
      ],
      "metadata": {
        "id": "Kmm0TRIgvhti"
      }
    },
    {
      "cell_type": "code",
      "source": [
        "import numpy as np\n",
        "\n",
        "# Create a NumPy array of strings\n",
        "arr = np.array(['python', 'numpy', 'pandas'])\n",
        "\n",
        "# Apply different case transformations\n",
        "uppercase = np.char.upper(arr)\n",
        "lowercase = np.char.lower(arr)\n",
        "titlecase = np.char.title(arr)\n",
        "capitalize = np.char.capitalize(arr)\n",
        "\n",
        "# Print the results\n",
        "print(\"Original Array:\")\n",
        "print(arr)\n",
        "\n",
        "print(\"\\nUppercase:\")\n",
        "print(uppercase)\n",
        "\n",
        "print(\"\\nLowercase:\")\n",
        "print(lowercase)\n",
        "\n",
        "print(\"\\nTitle Case:\")\n",
        "print(titlecase)\n",
        "\n",
        "print(\"\\nCapitalized:\")\n",
        "print(capitalize)"
      ],
      "metadata": {
        "colab": {
          "base_uri": "https://localhost:8080/"
        },
        "id": "uOEI32aDxtmD",
        "outputId": "d67ab570-082b-4882-9048-1ba028bfa2df"
      },
      "execution_count": 47,
      "outputs": [
        {
          "output_type": "stream",
          "name": "stdout",
          "text": [
            "Original Array:\n",
            "['python' 'numpy' 'pandas']\n",
            "\n",
            "Uppercase:\n",
            "['PYTHON' 'NUMPY' 'PANDAS']\n",
            "\n",
            "Lowercase:\n",
            "['python' 'numpy' 'pandas']\n",
            "\n",
            "Title Case:\n",
            "['Python' 'Numpy' 'Pandas']\n",
            "\n",
            "Capitalized:\n",
            "['Python' 'Numpy' 'Pandas']\n"
          ]
        }
      ]
    },
    {
      "cell_type": "markdown",
      "source": [
        "--------------------------------------------------------------------------------------------------------------------------------------"
      ],
      "metadata": {
        "id": "Hq2AnhMSvLCv"
      }
    },
    {
      "cell_type": "markdown",
      "source": [
        "##Q6. Generate a NumPy array of words. Insert a space between each character of every word in the array."
      ],
      "metadata": {
        "id": "OlnWAp68vKeY"
      }
    },
    {
      "cell_type": "markdown",
      "source": [
        "##Ans."
      ],
      "metadata": {
        "id": "1gA2GRGNx2n9"
      }
    },
    {
      "cell_type": "code",
      "source": [
        "import numpy as np\n",
        "\n",
        "# Create a NumPy array of words\n",
        "words = np.array(['hello', 'world', 'numpy', 'array'])\n",
        "\n",
        "# Insert a space between each character of every word\n",
        "spaced_words = np.char.join(' ', words)\n",
        "\n",
        "# Print the result\n",
        "print(\"Original Array of Words:\")\n",
        "print(words)\n",
        "\n",
        "print(\"\\nWords with Spaces Between Characters:\")\n",
        "print(spaced_words)"
      ],
      "metadata": {
        "colab": {
          "base_uri": "https://localhost:8080/"
        },
        "id": "vAmKpj4WyMdB",
        "outputId": "6ac71f4d-7c76-4af5-c8cd-5bc6dab2d7f7"
      },
      "execution_count": 48,
      "outputs": [
        {
          "output_type": "stream",
          "name": "stdout",
          "text": [
            "Original Array of Words:\n",
            "['hello' 'world' 'numpy' 'array']\n",
            "\n",
            "Words with Spaces Between Characters:\n",
            "['h e l l o' 'w o r l d' 'n u m p y' 'a r r a y']\n"
          ]
        }
      ]
    },
    {
      "cell_type": "markdown",
      "source": [
        "---------------------------------------------------------------------------------------------------------------------------------------"
      ],
      "metadata": {
        "id": "IKLqOQLKx2iV"
      }
    },
    {
      "cell_type": "markdown",
      "source": [
        "##Q7. Create two 2D NumPy arrays and perform element-wise addition, subtraction, multiplication, and division."
      ],
      "metadata": {
        "id": "e2cCWl_0x2NZ"
      }
    },
    {
      "cell_type": "markdown",
      "source": [
        "##Ans."
      ],
      "metadata": {
        "id": "Iau2aliFyrXp"
      }
    },
    {
      "cell_type": "code",
      "source": [
        "import numpy as np\n",
        "\n",
        "# Create two 2D NumPy arrays\n",
        "arr1 = np.array([[10, 20], [30, 40]])\n",
        "arr2 = np.array([[1, 2], [3, 4]])\n",
        "\n",
        "# Perform element-wise operations\n",
        "addition = arr1 + arr2\n",
        "subtraction = arr1 - arr2\n",
        "multiplication = arr1 * arr2\n",
        "division = arr1 / arr2\n",
        "\n",
        "# Print the results\n",
        "print(\"Array 1:\")\n",
        "print(arr1)\n",
        "\n",
        "print(\"\\nArray 2:\")\n",
        "print(arr2)\n",
        "\n",
        "print(\"\\nElement-wise Addition:\")\n",
        "print(addition)\n",
        "\n",
        "print(\"\\nElement-wise Subtraction:\")\n",
        "print(subtraction)\n",
        "\n",
        "print(\"\\nElement-wise Multiplication:\")\n",
        "print(multiplication)\n",
        "\n",
        "print(\"\\nElement-wise Division:\")\n",
        "print(division)"
      ],
      "metadata": {
        "colab": {
          "base_uri": "https://localhost:8080/"
        },
        "id": "1eq8a1a7yprJ",
        "outputId": "74ffc13b-bbb3-42f4-d206-40f5180c4eea"
      },
      "execution_count": 49,
      "outputs": [
        {
          "output_type": "stream",
          "name": "stdout",
          "text": [
            "Array 1:\n",
            "[[10 20]\n",
            " [30 40]]\n",
            "\n",
            "Array 2:\n",
            "[[1 2]\n",
            " [3 4]]\n",
            "\n",
            "Element-wise Addition:\n",
            "[[11 22]\n",
            " [33 44]]\n",
            "\n",
            "Element-wise Subtraction:\n",
            "[[ 9 18]\n",
            " [27 36]]\n",
            "\n",
            "Element-wise Multiplication:\n",
            "[[ 10  40]\n",
            " [ 90 160]]\n",
            "\n",
            "Element-wise Division:\n",
            "[[10. 10.]\n",
            " [10. 10.]]\n"
          ]
        }
      ]
    },
    {
      "cell_type": "markdown",
      "source": [
        "----------------------------------------------------------------------------------------------------------------------------------------"
      ],
      "metadata": {
        "id": "R6m1jF5FzG8M"
      }
    },
    {
      "cell_type": "markdown",
      "source": [
        "##Q8. Use NumPy to create a 5x5 identity matrix, then extract its diagonal elements."
      ],
      "metadata": {
        "id": "laBtDjGQzGyR"
      }
    },
    {
      "cell_type": "markdown",
      "source": [
        "##Ans."
      ],
      "metadata": {
        "id": "aTQIH-HVzGSQ"
      }
    },
    {
      "cell_type": "code",
      "source": [
        "import numpy as np\n",
        "\n",
        "# Create a 5x5 identity matrix\n",
        "identity_matrix = np.eye(5)\n",
        "print(\"5x5 Identity Matrix:\")\n",
        "print(identity_matrix)\n",
        "\n",
        "# Extract the diagonal elements\n",
        "diagonal_elements = np.diagonal(identity_matrix)\n",
        "print(\"\\nDiagonal Elements:\")\n",
        "print(diagonal_elements)"
      ],
      "metadata": {
        "colab": {
          "base_uri": "https://localhost:8080/"
        },
        "id": "A8Y7I6-6zZ9x",
        "outputId": "b4cb9e65-6ca7-4dea-deac-f3ca33d6bcdf"
      },
      "execution_count": 50,
      "outputs": [
        {
          "output_type": "stream",
          "name": "stdout",
          "text": [
            "5x5 Identity Matrix:\n",
            "[[1. 0. 0. 0. 0.]\n",
            " [0. 1. 0. 0. 0.]\n",
            " [0. 0. 1. 0. 0.]\n",
            " [0. 0. 0. 1. 0.]\n",
            " [0. 0. 0. 0. 1.]]\n",
            "\n",
            "Diagonal Elements:\n",
            "[1. 1. 1. 1. 1.]\n"
          ]
        }
      ]
    },
    {
      "cell_type": "markdown",
      "source": [
        "------------------------------------------------------------------------------------------------------------------------------------"
      ],
      "metadata": {
        "id": "UnjL1deezGHm"
      }
    },
    {
      "cell_type": "markdown",
      "source": [
        "##Q9. Generate a NumPy array of 100 random integers between 0 and 1000. Find and display all prime numbers in this array."
      ],
      "metadata": {
        "id": "DF9WbemWzFp-"
      }
    },
    {
      "cell_type": "markdown",
      "source": [
        "##Ans."
      ],
      "metadata": {
        "id": "y1FQcKusz4ya"
      }
    },
    {
      "cell_type": "code",
      "source": [
        "import numpy as np\n",
        "\n",
        "# Generate an array of 100 random integers between 0 and 1000\n",
        "random_integers = np.random.randint(0, 1001, size=100)\n",
        "print(\"Array of Random Integers:\")\n",
        "print(random_integers)\n",
        "\n",
        "# Function to check if a number is prime\n",
        "def is_prime(num):\n",
        "    if num < 2:\n",
        "        return False\n",
        "    for i in range(2, int(num**0.5) + 1):\n",
        "        if num % i == 0:\n",
        "            return False\n",
        "    return True\n",
        "\n",
        "# Find all prime numbers in the array\n",
        "prime_numbers = [num for num in random_integers if is_prime(num)]\n",
        "\n",
        "print(\"\\nPrime Numbers in the Array:\")\n",
        "print(prime_numbers)"
      ],
      "metadata": {
        "colab": {
          "base_uri": "https://localhost:8080/"
        },
        "id": "opdQ6aY3y5BL",
        "outputId": "51372f11-e2da-4e04-ae52-8068847de4ac"
      },
      "execution_count": 51,
      "outputs": [
        {
          "output_type": "stream",
          "name": "stdout",
          "text": [
            "Array of Random Integers:\n",
            "[605 695 834 738 713 202 166 226 806 422 612 277 382 440 759 387 336 737\n",
            " 168 949 860 867 230 711 366 405  56 714  92 191 449  10 361 740 557 465\n",
            " 175 711 873 911  10 124 343 202 796 338 498 279 922 113 680  81 586 599\n",
            " 636 658 561 697 986 470 416 312  77 877 669 230   4 572 754 911   6 634\n",
            " 417 696 118 891 820 195 164 789 436 986 443 130 645 975  74 989 996 972\n",
            " 534 720 869 596 811 608 940 647 774 481]\n",
            "\n",
            "Prime Numbers in the Array:\n",
            "[277, 191, 449, 557, 911, 113, 599, 877, 911, 443, 811, 647]\n"
          ]
        }
      ]
    },
    {
      "cell_type": "markdown",
      "source": [
        "--------------------------------------------------------------------------------------------------------------------------------------"
      ],
      "metadata": {
        "id": "n_cl2oPM0bTk"
      }
    },
    {
      "cell_type": "markdown",
      "source": [
        "##Q10. Create a NumPy array representing daily temperatures for a month. Calculate and display the weekly averages."
      ],
      "metadata": {
        "id": "j62BOJGQ0bM8"
      }
    },
    {
      "cell_type": "markdown",
      "source": [
        "##Ans."
      ],
      "metadata": {
        "id": "Fpz8VIsg0a2Z"
      }
    },
    {
      "cell_type": "code",
      "source": [
        "import numpy as np\n",
        "\n",
        "# Set a random seed for reproducibility\n",
        "np.random.seed(42)\n",
        "\n",
        "# Create a NumPy array of 30 random temperatures between 15°C and 35°C\n",
        "daily_temperatures = np.random.uniform(15, 35, 30)\n",
        "\n",
        "# Reshape the array into 4 weeks (assuming 7 days per week, with 2 days left over)\n",
        "weekly_temperatures = daily_temperatures[:28].reshape(4, 7)\n",
        "\n",
        "# Calculate weekly averages\n",
        "weekly_averages = np.mean(weekly_temperatures, axis=1)\n",
        "\n",
        "# Display the results\n",
        "print(\"Daily temperatures for the month:\")\n",
        "print(daily_temperatures)\n",
        "print(\"\\nWeekly temperatures:\")\n",
        "print(weekly_temperatures)\n",
        "print(\"\\nWeekly averages:\")\n",
        "for week, avg in enumerate(weekly_averages, 1):\n",
        "    print(f\"Week {week}: {avg:.2f}°C\")\n",
        "\n",
        "# Handle the remaining days\n",
        "remaining_days = daily_temperatures[28:]\n",
        "print(f\"\\nRemaining days' temperatures: {remaining_days}\")\n",
        "print(f\"Average temperature of remaining days: {np.mean(remaining_days):.2f}°C\")\n",
        "\n",
        "# Optional: Create a simple visualization\n",
        "import matplotlib.pyplot as plt\n",
        "\n",
        "plt.figure(figsize=(12, 6))\n",
        "plt.plot(daily_temperatures, marker='o')\n",
        "plt.title(\"Daily Temperatures for the Month\")\n",
        "plt.xlabel(\"Day\")\n",
        "plt.ylabel(\"Temperature (°C)\")\n",
        "plt.grid(True)\n",
        "\n",
        "# Add weekly average lines\n",
        "for week in range(4):\n",
        "    plt.axhline(y=weekly_averages[week], color='r', linestyle='--',\n",
        "                xmin=week*7/30, xmax=(week+1)*7/30)\n",
        "\n",
        "plt.show()"
      ],
      "metadata": {
        "colab": {
          "base_uri": "https://localhost:8080/",
          "height": 998
        },
        "id": "ROq_9BcE0PLI",
        "outputId": "729fae86-f8ef-4e15-8708-3ee9de8863f2"
      },
      "execution_count": 53,
      "outputs": [
        {
          "output_type": "stream",
          "name": "stdout",
          "text": [
            "Daily temperatures for the month:\n",
            "[22.49080238 34.01428613 29.63987884 26.97316968 18.12037281 18.11989041\n",
            " 16.16167224 32.32352292 27.02230023 29.16145156 15.41168989 34.39819704\n",
            " 31.64885282 19.24678221 18.63649934 18.6680902  21.08484486 25.49512863\n",
            " 23.63890037 20.8245828  27.23705789 17.78987721 20.84289297 22.32723687\n",
            " 24.12139968 30.70351923 18.99347564 25.28468877 26.84829138 15.92900825]\n",
            "\n",
            "Weekly temperatures:\n",
            "[[22.49080238 34.01428613 29.63987884 26.97316968 18.12037281 18.11989041\n",
            "  16.16167224]\n",
            " [32.32352292 27.02230023 29.16145156 15.41168989 34.39819704 31.64885282\n",
            "  19.24678221]\n",
            " [18.63649934 18.6680902  21.08484486 25.49512863 23.63890037 20.8245828\n",
            "  27.23705789]\n",
            " [17.78987721 20.84289297 22.32723687 24.12139968 30.70351923 18.99347564\n",
            "  25.28468877]]\n",
            "\n",
            "Weekly averages:\n",
            "Week 1: 23.65°C\n",
            "Week 2: 27.03°C\n",
            "Week 3: 22.23°C\n",
            "Week 4: 22.87°C\n",
            "\n",
            "Remaining days' temperatures: [26.84829138 15.92900825]\n",
            "Average temperature of remaining days: 21.39°C\n"
          ]
        },
        {
          "output_type": "display_data",
          "data": {
            "text/plain": [
              "<Figure size 1200x600 with 1 Axes>"
            ],
            "image/png": "[encoded data removed]"
          },
          "metadata": {}
        }
      ]
    },
    {
      "cell_type": "markdown",
      "source": [
        "-----------------------------------------------------------------------------------------------------------------------------------------"
      ],
      "metadata": {
        "id": "krkL35SM11fz"
      }
    },
    {
      "cell_type": "markdown",
      "source": [
        "#Thank You"
      ],
      "metadata": {
        "id": "-uYPLpNt13tY"
      }
    },
    {
      "cell_type": "code",
      "source": [],
      "metadata": {
        "id": "2vhu-h2Q1_Bn"
      },
      "execution_count": null,
      "outputs": []
    }
  ]
}